{
  "nbformat": 4,
  "nbformat_minor": 0,
  "metadata": {
    "colab": {
      "provenance": []
    },
    "kernelspec": {
      "name": "python3",
      "display_name": "Python 3"
    },
    "language_info": {
      "name": "python"
    }
  },
  "cells": [
    {
      "source": [
        "# @title IP Lookup { vertical-output: true, display-mode: \"form\" }\n",
        "import requests\n",
        "\n",
        "def get_location_from_ip(ip_address):\n",
        "  \"\"\"\n",
        "  Returns the location of the server associated with the given IP address.\n",
        "\n",
        "  Args:\n",
        "    ip_address: The IP address of the server.\n",
        "\n",
        "  Returns:\n",
        "    A dictionary containing the location information of the server.\n",
        "  \"\"\"\n",
        "\n",
        "  # Use the freegeoip API to get the location information.\n",
        "  response = requests.get(f\"https://freegeoip.app/json/{ip_address}\")\n",
        "\n",
        "  if response.status_code == 200:\n",
        "    return response.json()\n",
        "  else:\n",
        "    raise Exception(f\"Error fetching location information: {response.status_code}\")\n",
        "\n",
        "# Prompt the user for an IP address\n",
        "ip_address = input(\"Enter an IP address: \")\n",
        "\n",
        "# Get the location information\n",
        "location = get_location_from_ip(ip_address)\n",
        "\n",
        "# Print the location information\n",
        "print(f\"Location of server with IP address {ip_address}:\")\n",
        "print(f\"  Country: {location['country_name']}\")\n",
        "print(f\"  Region: {location['region_name']}\")\n",
        "print(f\"  City: {location['city']}\")"
      ],
      "cell_type": "code",
      "metadata": {
        "colab": {
          "base_uri": "https://localhost:8080/"
        },
        "id": "emc4BZQcz3ap",
        "outputId": "b590d86b-fcfe-4d24-ab1b-d99c0c91b221"
      },
      "execution_count": null,
      "outputs": [
        {
          "output_type": "stream",
          "name": "stdout",
          "text": [
            "Enter an IP address: 1.1.1.1\n",
            "Location of server with IP address 1.1.1.1:\n",
            "  Country: United States\n",
            "  Region: California\n",
            "  City: San Jose\n"
          ]
        }
      ]
    },
    {
      "source": [
        "# @title Phone Number Lookup { vertical-output: true, display-mode: \"form\" }\n",
        "import phonenumbers\n",
        "from phonenumbers import geocoder, carrier\n",
        "\n",
        "def get_phone_location(phone_number):\n",
        "  \"\"\"\n",
        "  Returns the approximate location and carrier of the given phone number.\n",
        "\n",
        "  Args:\n",
        "    phone_number: The phone number to look up.\n",
        "\n",
        "  Returns:\n",
        "    A dictionary containing the location and carrier information.\n",
        "  \"\"\"\n",
        "\n",
        "  phone_number = phonenumbers.parse(phone_number)\n",
        "\n",
        "  # Initialize the carrier variable\n",
        "  carrier = None\n",
        "\n",
        "  # Get the location information\n",
        "  location = geocoder.description_for_number(phone_number, \"en\")\n",
        "\n",
        "  # Get the carrier information\n",
        "  # Uncomment the following line to make the API call\n",
        "  # response = requests.get(f\"https://freegeoip.app/json/{ip_address}\")\n",
        "  # if response.status_code == 200:\n",
        "  carrier = phonenumbers.carrier.name_for_number(phone_number, \"en\")\n",
        "\n",
        "  # Return the results\n",
        "  return {\n",
        "    \"location\": location,\n",
        "  }\n",
        "\n",
        "# Prompt the user for a phone number\n",
        "phone_number = input(\"Enter a phone number with country code: \")\n",
        "\n",
        "# Get the location and carrier information\n",
        "location = get_phone_location(phone_number)\n",
        "\n",
        "# Print the results\n",
        "print(f\"Phone number: {phone_number}\")\n",
        "print(f\"Location: {location['location']}\")"
      ],
      "cell_type": "code",
      "metadata": {
        "colab": {
          "base_uri": "https://localhost:8080/"
        },
        "id": "kQzgQ1GU0V43",
        "outputId": "7a7f1a79-2e5b-4858-8577-a5528d78b523"
      },
      "execution_count": null,
      "outputs": [
        {
          "output_type": "stream",
          "name": "stdout",
          "text": [
            "Enter a phone number with country code: +18147994336\n",
            "Phone number: +18147994336\n",
            "Location: Pennsylvania\n"
          ]
        }
      ]
    }
  ]
}
